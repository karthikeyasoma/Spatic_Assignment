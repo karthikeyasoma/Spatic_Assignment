{
 "cells": [
  {
   "cell_type": "code",
   "execution_count": null,
   "metadata": {},
   "outputs": [],
   "source": [
    "import pandas as pd\n",
    "import numpy as np\n",
    "from geopy.distance import geodesic\n",
    "\n",
    "#Reading The CSV File into a data frame via pandas\n",
    "Data_Frame = pd.read_csv('assignment_data.csv')\n",
    "\n",
    "#Inserting a new Col for Similarity i.e Similar cols will be marked '1' by default its  '0'\n",
    "Data_Frame.insert(3,\"is_similar\",0)\n",
    "\n",
    "\n",
    "#iterating over all the coordinates i.e matching different coordinates\n",
    "for row1 in range(len(Data_Frame)):\n",
    "    for row2 in range(row1+1,len(Data_Frame)):\n",
    "        Coordinate_1           = (Data_Frame.iloc[row1][1],Data_Frame.iloc[row1][2])\n",
    "        Coordinate_2           = (Data_Frame.iloc[row2][1],Data_Frame.iloc[row2][2])\n",
    "        #Finding distance in meters via 'geopy' library in meters\n",
    "        Distance_In_Meters     = (geodesic(Coordinate_1, Coordinate_2).meters)\n",
    "        #Adding try block just in case wrong input is given to catch the error.No errors in the current data set\n",
    "        try:\n",
    "            #Checking if the distance is '<=200' according to problem statement. \n",
    "            if(Distance_In_Meters <= 200):\n",
    "                #City_1 -> Name of the city - cooridnate '1'\n",
    "                City_1 = Data_Frame.iloc[row1][0]\n",
    "                #Len_City_1 -> Len of the city - coodinate '1'\n",
    "                Len_City_1 = len(City_1)\n",
    "                #City_2 -> Name of the city - cooridnate '2'\n",
    "                City_2 = Data_Frame.iloc[row2][0]\n",
    "                #Len_City_2 -> Len of the city - coodinate '2'\n",
    "                Len_City_2 = len(City_2)\n",
    "                #Using Dynamic Programming to reduce the time complexity of edit distance via tabulating the results.\n",
    "                Table      = [[0]*(Len_City_2+1) for each in range(Len_City_1+1)]\n",
    "                #Iterating over all characters of city-1\n",
    "                for row in range(Len_City_1+1):\n",
    "                    # Making character at rowth index of city-1 to position 0 of city-2\n",
    "                    Table[row][0] = row\n",
    "                for row in range(Len_City_2+1):\n",
    "                    # Making charcter at rowth index of city-2 to position 0 of city-1\n",
    "                    Table[0][row] = row\n",
    "                #Iterating over all character of both city and seeing the cost to make it rowth character of city-1 to colth charcter of city-2    \n",
    "                for row in range(1,Len_City_1+1):\n",
    "                    for col in range(1,Len_City_2+1):\n",
    "                        # Incase the character at rowth index of city1 matches with colth index of city-2 we need not perform any operation\n",
    "                        Table[row][col] = Table[row-1][col-1]\n",
    "                        #If It doesn't match we perform replace,delete,insert respectively which costs 1 operation\n",
    "                        if(City_1[row-1] != City_2[col-1]):\n",
    "                            Table[row][col] = 1 + min(Table[row][col],Table[row-1][col],Table[row][col-1])\n",
    "                #Finally checking the cost to make two strings identical if less than 5 ?            \n",
    "                if(Table[Len_City_1][Len_City_2]<5):\n",
    "                    #if cost<5 then mark both the citys as similar - col - 3  - Similarity.\n",
    "                    Data_Frame.iloc[row1,3] = 1\n",
    "                    Data_Frame.iloc[row2,3] = 1\n",
    "        except:\n",
    "            # Incase Of errors we can debug the issue here since there is no error in the dataset this code is not needed.\n",
    "            print(Data_Frame.iloc[row1][0],Data_Frame.iloc[row2][0],len(Data_Frame.iloc[row1][0]),len(Data_Frame.iloc[row2][0]),len(Table),len(Table[0]))            \n",
    "    \n",
    "\n",
    "            \n",
    "        \n",
    "      \n"
   ]
  },
  {
   "cell_type": "code",
   "execution_count": null,
   "metadata": {},
   "outputs": [],
   "source": [
    "#Making sure the output file is empty before we write the updated data frame onto it.\n",
    "Clear_File = open(\"output.csv\", \"w\")\n",
    "Clear_File.truncate()\n",
    "Clear_File.close()"
   ]
  },
  {
   "cell_type": "code",
   "execution_count": null,
   "metadata": {},
   "outputs": [],
   "source": [
    "#Finally appending the dataframe to output.csv file which is the end result.\n",
    "Data_Frame.to_csv(\"output.csv\")"
   ]
  },
  {
   "cell_type": "code",
   "execution_count": null,
   "metadata": {},
   "outputs": [],
   "source": [
    "# Time Complexity\n",
    "# Let n be the number of coodinates and m be the maximum length of city\n",
    "# Caluculation\n",
    "#   then (n-1 + n-2 + n-3 + ....... 1)*(m*m)\n",
    "#  (n*(n+1)/2)*m^2\n",
    "#  (n^2 + n)/2*(m^2)\n",
    "#  (n^2*m^2 + n*m^2)/2\n",
    "#  so since n^2*m^2 is very large we can ignore n*m^2 and divison by 2\n",
    "#  i.e -> O(n^2*m^2)\n",
    "# Time Taken to run - 1055 min 37.7 sec i.e 17.5 Hrs\n",
    "\n",
    "# Space Complexity\n",
    "# Table or Dynamic programming array hold m*m space at max at any particular point of time\n",
    "# i.e -> O(m*m) in the worst case\n",
    " "
   ]
  }
 ],
 "metadata": {
  "kernelspec": {
   "display_name": "Python 3",
   "language": "python",
   "name": "python3"
  },
  "language_info": {
   "codemirror_mode": {
    "name": "ipython",
    "version": 3
   },
   "file_extension": ".py",
   "mimetype": "text/x-python",
   "name": "python",
   "nbconvert_exporter": "python",
   "pygments_lexer": "ipython3",
   "version": "3.10.5"
  },
  "orig_nbformat": 4,
  "vscode": {
   "interpreter": {
    "hash": "369f2c481f4da34e4445cda3fffd2e751bd1c4d706f27375911949ba6bb62e1c"
   }
  }
 },
 "nbformat": 4,
 "nbformat_minor": 2
}
