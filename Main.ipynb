{
 "cells": [
  {
   "cell_type": "code",
   "execution_count": 91,
   "metadata": {},
   "outputs": [],
   "source": [
    "import pandas as pd\n",
    "import numpy as np\n",
    "from geopy.distance import geodesic\n",
    "\n",
    "Data_Frame = pd.read_csv('assignment_data.csv')\n",
    "Data_Frame.insert(3,\"is_similar\",0)\n",
    "\n",
    "for row1 in range(len(Data_Frame)):\n",
    "    for row2 in range(row1+1,len(Data_Frame)):\n",
    "        Coordinate_1           = (Data_Frame.iloc[row1][1],Data_Frame.iloc[row1][2])\n",
    "        Coordinate_2           = (Data_Frame.iloc[row2][1],Data_Frame.iloc[row2][2])\n",
    "        Distance_In_Meters     = (geodesic(Coordinate_1, Coordinate_2).meters)\n",
    "        try:\n",
    "            if(Distance_In_Meters <= 200):\n",
    "                City_1 = Data_Frame.iloc[row1][0]\n",
    "                Len_City_1 = len(City_1)\n",
    "                City_2 = Data_Frame.iloc[row2][0]\n",
    "                Len_City_2 = len(City_2)\n",
    "                Table      = [[0]*(Len_City_2+1) for each in range(Len_City_1+1)]\n",
    "                for row in range(Len_City_1+1):\n",
    "                    Table[row][0] = row\n",
    "                for row in range(Len_City_2+1):\n",
    "                    Table[0][row] = row\n",
    "                for row in range(1,Len_City_1+1):\n",
    "                    for col in range(1,Len_City_2+1):\n",
    "                        Table[row][col] = Table[row-1][col-1]\n",
    "                        if(City_1[row-1] != City_2[col-1]):\n",
    "                            Table[row][col] = 1 + min(Table[row][col],Table[row-1][col],Table[row][col-1])\n",
    "                if(Table[Len_City_1][Len_City_2]<5):\n",
    "                    Data_Frame.iloc[row1,3] = 1\n",
    "                    Data_Frame.iloc[row2,3] = 1\n",
    "        except:\n",
    "            print(Data_Frame.iloc[row1][0],Data_Frame.iloc[row2][0],len(Data_Frame.iloc[row1][0]),len(Data_Frame.iloc[row2][0]),len(Table),len(Table[0]))            \n",
    "    \n",
    "\n",
    "            \n",
    "        \n",
    "      \n"
   ]
  },
  {
   "cell_type": "code",
   "execution_count": 92,
   "metadata": {},
   "outputs": [],
   "source": [
    "Clear_File = open(\"output.csv\", \"w\")\n",
    "Clear_File.truncate()\n",
    "Clear_File.close()"
   ]
  },
  {
   "cell_type": "code",
   "execution_count": 93,
   "metadata": {},
   "outputs": [],
   "source": [
    "Data_Frame.to_csv(\"output.csv\")"
   ]
  }
 ],
 "metadata": {
  "kernelspec": {
   "display_name": "Python 3",
   "language": "python",
   "name": "python3"
  },
  "language_info": {
   "codemirror_mode": {
    "name": "ipython",
    "version": 3
   },
   "file_extension": ".py",
   "mimetype": "text/x-python",
   "name": "python",
   "nbconvert_exporter": "python",
   "pygments_lexer": "ipython3",
   "version": "3.10.5"
  },
  "orig_nbformat": 4,
  "vscode": {
   "interpreter": {
    "hash": "369f2c481f4da34e4445cda3fffd2e751bd1c4d706f27375911949ba6bb62e1c"
   }
  }
 },
 "nbformat": 4,
 "nbformat_minor": 2
}
